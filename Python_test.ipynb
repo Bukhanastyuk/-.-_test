{
 "cells": [
  {
   "cell_type": "code",
   "execution_count": 11,
   "metadata": {},
   "outputs": [],
   "source": [
    "## Задание 1.\n",
    "\n",
    "import requests\n",
    "from datetime import datetime, timedelta"
   ]
  },
  {
   "cell_type": "code",
   "execution_count": 12,
   "metadata": {},
   "outputs": [
    {
     "name": "stdout",
     "output_type": "stream",
     "text": [
      "200\n",
      "{\"success\":true,\"timestamp\":1715558399,\"historical\":true,\"base\":\"EUR\",\"date\":\"2024-05-12\",\"rates\":{\"USD\":1.077017,\"EUR\":1}}\n"
     ]
    }
   ],
   "source": [
    "# Получаем данные за вчера\n",
    "yesterday = datetime.now() - timedelta(1)\n",
    "yesterday_str = yesterday.strftime('%Y-%m-%d')\n",
    "# записываем API-ключ\n",
    "api_key = '09a1b80a4f56e541ac8d39156b4ca42d'\n",
    "# URL для запроса курса валют\n",
    "url = f'http://data.fixer.io/api/{yesterday_str}?access_key={api_key}&symbols=USD,EUR'\n",
    "# Выполняем запрос к API\n",
    "response = requests.get(url)\n",
    "# проверяем статус и текст вывода\n",
    "print(response.status_code)\n",
    "print(response.text)"
   ]
  },
  {
   "cell_type": "code",
   "execution_count": null,
   "metadata": {},
   "outputs": [],
   "source": [
    "# Если запрос успешен\n",
    "if response.status_code == 200:\n",
    "    data = response.json()\n",
    "\n",
    "    # Если в ответе есть ошибка\n",
    "    if 'error' in data:\n",
    "        with open('error_log.txt', 'a') as file:\n",
    "            file.write(f\"{yesterday_str}: {data['error']}\\n\")\n",
    "    else:\n",
    "        # Получаем курс валют\n",
    "        rate = data['rates']['EUR'] / data['rates']['USD']\n",
    "\n",
    "        # Подключаемся к БД\n",
    "        connection = psycopg2.connect(\n",
    "        database=\"db_name\",\n",
    "        user=\"bukhanastyuk_ed\",\n",
    "        password=\"password\",\n",
    "        host=\"host\",\n",
    "        port= 6432\n",
    "    )\n",
    "        # Создаем курсор для выполнения SQL-запросов\n",
    "        cur = connection.cursor()\n",
    "\n",
    "        # Проверяем, есть ли уже запись на эту дату\n",
    "        cur.execute(\"SELECT * FROM exchange_rates WHERE date = %s AND pair = 'USD/EUR'\", (yesterday,))\n",
    "        if cur.fetchone() is None:\n",
    "            # Если записи нет, вставляем данные\n",
    "            cur.execute(\"INSERT INTO exchange_rates (date, pair, rate) VALUES (%s, 'USD/EUR', %s)\", (yesterday, rate))\n",
    "            conn.commit()\n",
    "\n",
    "        cur.close()\n",
    "        conn.close()\n",
    "else:\n",
    "    with open('error_log.txt', 'a') as file:\n",
    "        file.write(f\"{yesterday_str}: Request failed with status code {response.status_code}\\n\")"
   ]
  },
  {
   "cell_type": "code",
   "execution_count": 2,
   "metadata": {},
   "outputs": [
    {
     "name": "stdout",
     "output_type": "stream",
     "text": [
      "{2: 3, 3: 2, 4: 2, 5: 0, 6: 2, 1: 1}\n",
      "{11: 1, 22: 2, 33: 0, 88: 0, 66: 1}\n"
     ]
    }
   ],
   "source": [
    "## Задание 2.\n",
    "# напишем функцию для подсчета количества друзей в списке\n",
    "def count_friends(lists):\n",
    "    friend_count = {} # создадим словарь: ключ - id пользователя, а значение - количество его друзей\n",
    "    for lst in lists:\n",
    "        for id in lst:\n",
    "            if id in friend_count: # если id есть в словаре\n",
    "                friend_count[id] += len(lst) - 1 #увеличиваем кол-во друзей на 1 (кол-во элементов списка -1)\n",
    "            else: # если id нет в словаре\n",
    "                friend_count[id] = len(lst) - 1 # добавляем в словарь и увеличиваем кол-во друзей на 1 (кол-во элементов списка -1), если друзей нет, то будет 0\n",
    "    return friend_count\n",
    "\n",
    "a = [[2,3],[3,4],[5],[2,6],[2,4],[6,1]]\n",
    "b = [[11,22],[33],[88],[66,22]]\n",
    "print(count_friends(a))\n",
    "print(count_friends(b))\n"
   ]
  }
 ],
 "metadata": {
  "kernelspec": {
   "display_name": "Python 3",
   "language": "python",
   "name": "python3"
  },
  "language_info": {
   "codemirror_mode": {
    "name": "ipython",
    "version": 3
   },
   "file_extension": ".py",
   "mimetype": "text/x-python",
   "name": "python",
   "nbconvert_exporter": "python",
   "pygments_lexer": "ipython3",
   "version": "3.11.9"
  }
 },
 "nbformat": 4,
 "nbformat_minor": 2
}
